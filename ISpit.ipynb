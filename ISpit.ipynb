{
 "cells": [
  {
   "cell_type": "markdown",
   "id": "a995b0ff-c54a-4079-84a7-c0f1a869c0ee",
   "metadata": {},
   "source": [
    "Zadaci za vjezbu:\n",
    "1. Napišite program koji ispisuje sve brojeve od 1 do n, gdje n unosi korisnik. Ispisuju se samo brojevi koji su djeljivi sa 7.\n",
    "\n",
    "2. Kreirajte funkciju koja prima listu brojeva i vraća sumu svih parnih brojeva u toj listi.\n",
    "\n",
    "3. Napišite program koji generiše slučajan broj između 1 i 100 i traži od korisnika da ga pogodi. Dajte povratnu informaciju korisniku o tome da li je broj veći ili manji od unesenog.\n",
    "\n",
    "4. Implementirajte program koji računa faktorijel broja koji korisnik unese.\n",
    "\n",
    "5. Kreirajte funkciju koja provjerava da li je uneseni broj palindrom (čita se isto i s lijeva na desno i s desna na lijevo).\n",
    "\n",
    "6. Napišite program koji prima listu brojeva i vraća listu samo onih riječi koje su palindromi.\n",
    "\n",
    "7. Kreirajte funkciju koja prima niz brojeva i vraća medijanu (središnji broj kada su brojevi sortirani).\n",
    "\n",
    "9. Implementirajte funkciju koja prima dva niza i vraća njihov uniju (sve jedinstvene elemente iz oba niza).\n",
    "10. Napravite program koji simulira bacanje kocke (koristite biblioteku random) i broji koliko puta je svaka strana kocke izašla nakon određenog broja bacanja.\n",
    "\n",
    "11. Kreirajte program koji izračunava Fibonacci niz do određenog broja n, gdje n unosi korisnik.\n",
    "\n",
    "12. Napravite funkciju koja izračunava kvadratnu sredinu (RMS) za niz brojeva.\n",
    "\n",
    "13. Kreirajte program koji pronalazi najveći zajednički delitelj (NZD) za dva unesena broja.\n",
    "\n",
    "14. Implementirajte program koji prima niz brojeva i vraća broj koji se najčešće pojavljuje (mod).\n",
    "\n"
   ]
  },
  {
   "cell_type": "markdown",
   "id": "a51beba8-cde0-4c85-b0ec-f829d0b02797",
   "metadata": {},
   "source": [
    "1.Napišite program koji ispisuje sve brojeve od 1 do n, gdje n unosi korisnik. \n",
    "Ispisuju se samo brojevi koji su djeljivi sa 7."
   ]
  },
  {
   "cell_type": "code",
   "execution_count": 14,
   "id": "b663d7c6-5323-4df3-a7d7-7c26d0679fcd",
   "metadata": {},
   "outputs": [
    {
     "name": "stdin",
     "output_type": "stream",
     "text": [
      "unesi broj 14\n"
     ]
    },
    {
     "name": "stdout",
     "output_type": "stream",
     "text": [
      "7\n",
      "14\n"
     ]
    }
   ],
   "source": [
    "\n",
    "n=int(input('unesi broj'))\n",
    "for i in range(1,n+1) :\n",
    "    if i%7==0:\n",
    "        print(i)"
   ]
  },
  {
   "cell_type": "markdown",
   "id": "8a1f39ae-cffe-4c40-a0b0-741986a528fb",
   "metadata": {},
   "source": [
    "2.Kreirajte funkciju koja prima listu brojeva i vraća sumu svih parnih brojeva u toj listi."
   ]
  },
  {
   "cell_type": "code",
   "execution_count": 15,
   "id": "545544f5-1a4a-4836-a60c-1bdb86c7bb6a",
   "metadata": {},
   "outputs": [],
   "source": [
    "def moja_funkcija(x):\n",
    "    suma=0\n",
    "    for broj in x:\n",
    "        if broj%2==0:\n",
    "            suma=suma+broj\n",
    "    return suma"
   ]
  },
  {
   "cell_type": "code",
   "execution_count": 16,
   "id": "ded2a1ca-4111-47d0-9b22-890545a27a92",
   "metadata": {},
   "outputs": [
    {
     "data": {
      "text/plain": [
       "14"
      ]
     },
     "execution_count": 16,
     "metadata": {},
     "output_type": "execute_result"
    }
   ],
   "source": [
    "a = [1,2,3,4,8,0]\n",
    "b = [5,10,15,20,25]\n",
    "moja_funkcija(a)\n"
   ]
  },
  {
   "cell_type": "code",
   "execution_count": 17,
   "id": "3e823587-b49c-4877-a17d-47c53feb15a8",
   "metadata": {},
   "outputs": [
    {
     "data": {
      "text/plain": [
       "30"
      ]
     },
     "execution_count": 17,
     "metadata": {},
     "output_type": "execute_result"
    }
   ],
   "source": [
    "moja_funkcija(b)"
   ]
  },
  {
   "cell_type": "markdown",
   "id": "c3f56835-2356-4670-bd4c-a4fa458bbe55",
   "metadata": {},
   "source": [
    "3. Napišite program koji generiše slučajan broj između 1 i 100 i traži \n",
    "od korisnika da ga pogodi. Dajte povratnu informaciju korisniku o tome da li je broj veći ili manji od unesenog."
   ]
  },
  {
   "cell_type": "code",
   "execution_count": 114,
   "id": "0095c2d8-27bc-491e-b94d-1965d6d713ed",
   "metadata": {},
   "outputs": [
    {
     "name": "stdin",
     "output_type": "stream",
     "text": [
      "unesi broj izmedju 1 i 100 50\n"
     ]
    },
    {
     "name": "stdout",
     "output_type": "stream",
     "text": [
      "trazeni broj je veci\n"
     ]
    },
    {
     "name": "stdin",
     "output_type": "stream",
     "text": [
      "unesi broj izmedju 1 i 100 75\n"
     ]
    },
    {
     "name": "stdout",
     "output_type": "stream",
     "text": [
      "broj je manji\n"
     ]
    },
    {
     "name": "stdin",
     "output_type": "stream",
     "text": [
      "unesi broj izmedju 1 i 100 67\n"
     ]
    },
    {
     "name": "stdout",
     "output_type": "stream",
     "text": [
      "trazeni broj je veci\n"
     ]
    },
    {
     "name": "stdin",
     "output_type": "stream",
     "text": [
      "unesi broj izmedju 1 i 100 70\n"
     ]
    },
    {
     "name": "stdout",
     "output_type": "stream",
     "text": [
      "trazeni broj je veci\n"
     ]
    },
    {
     "name": "stdin",
     "output_type": "stream",
     "text": [
      "unesi broj izmedju 1 i 100 72\n"
     ]
    },
    {
     "name": "stdout",
     "output_type": "stream",
     "text": [
      "trazeni broj je veci\n"
     ]
    },
    {
     "name": "stdin",
     "output_type": "stream",
     "text": [
      "unesi broj izmedju 1 i 100 73\n"
     ]
    },
    {
     "name": "stdout",
     "output_type": "stream",
     "text": [
      "trazeni broj je veci\n"
     ]
    },
    {
     "name": "stdin",
     "output_type": "stream",
     "text": [
      "unesi broj izmedju 1 i 100 74\n"
     ]
    },
    {
     "name": "stdout",
     "output_type": "stream",
     "text": [
      "pogodili ste broj\n"
     ]
    }
   ],
   "source": [
    "import random as rnd\n",
    "r = rnd.randint(1,100)\n",
    "\n",
    "while True:\n",
    "    x=int(input('unesi broj izmedju 1 i 100'))\n",
    "    if x==r:\n",
    "        print('pogodili ste broj')\n",
    "        break\n",
    "    elif x<r:\n",
    "        print('trazeni broj je veci')\n",
    "    else:\n",
    "        print('broj je manji')\n",
    "            \n"
   ]
  },
  {
   "cell_type": "markdown",
   "id": "b66d0625-348f-43d6-b3d1-b801fa25cd96",
   "metadata": {},
   "source": [
    "4.Implementirajte program koji računa faktorijel broja koji korisnik unese."
   ]
  },
  {
   "cell_type": "code",
   "execution_count": 25,
   "id": "f3191ca4-c6dc-4249-b25a-14ed5ed0c216",
   "metadata": {},
   "outputs": [
    {
     "name": "stdin",
     "output_type": "stream",
     "text": [
      "unesi broj 3\n"
     ]
    },
    {
     "name": "stdout",
     "output_type": "stream",
     "text": [
      "6\n"
     ]
    }
   ],
   "source": [
    "n=int(input('unesi broj'))\n",
    "y=1\n",
    "for i in range(1,n+1):\n",
    "    y=y*(i)\n",
    "print(y)"
   ]
  },
  {
   "cell_type": "markdown",
   "id": "b8c4b27c-c32c-41a1-bb8c-09206eddd5e9",
   "metadata": {},
   "source": [
    "7.Kreirajte funkciju koja prima niz brojeva i vraća medijanu (središnji broj kada su brojevi sortirani)."
   ]
  },
  {
   "cell_type": "code",
   "execution_count": 17,
   "id": "9699aa8e-5d69-483a-8ff7-37c9c733f2b9",
   "metadata": {},
   "outputs": [],
   "source": [
    "def srednja(x):\n",
    "    n = len(x)\n",
    "    if n%2==1:\n",
    "        median_ = sorted(x)[round(0.5*(n-1))]\n",
    "    else:\n",
    "        x_ord, index = sorted(x), round(0.5*n)\n",
    "        median_ = 0.5*(x_ord[index-1]+x_ord[index])\n",
    "    return(median_)\n"
   ]
  },
  {
   "cell_type": "code",
   "execution_count": 20,
   "id": "e4140501-bc6a-4ff5-ab5e-0c4c2ed3693b",
   "metadata": {},
   "outputs": [
    {
     "data": {
      "text/plain": [
       "1"
      ]
     },
     "execution_count": 20,
     "metadata": {},
     "output_type": "execute_result"
    }
   ],
   "source": [
    "3%2"
   ]
  },
  {
   "cell_type": "code",
   "execution_count": 23,
   "id": "5e206a2a-a6d0-4b01-8a30-8e598749d0d3",
   "metadata": {},
   "outputs": [
    {
     "data": {
      "text/plain": [
       "[2, 3, 4, 5, 7, 9]"
      ]
     },
     "execution_count": 23,
     "metadata": {},
     "output_type": "execute_result"
    }
   ],
   "source": [
    "x=(2,3,4,7,9,5)\n",
    "srednja(x)\n",
    "sorted(x)"
   ]
  },
  {
   "cell_type": "markdown",
   "id": "17129fe7-fbb2-4ee0-bb74-d5ef5eb50768",
   "metadata": {},
   "source": [
    "8.Implementirajte funkciju koja prima dva niza i vraća njihov uniju (sve jedinstvene elemente iz oba niza)."
   ]
  },
  {
   "cell_type": "code",
   "execution_count": 37,
   "id": "973d044a-f5df-4e8a-b435-b55665af3665",
   "metadata": {},
   "outputs": [],
   "source": [
    "def unija(a,b):\n",
    "    c=set(a+b)\n",
    "    return(c)"
   ]
  },
  {
   "cell_type": "code",
   "execution_count": 39,
   "id": "92f6723f-7f83-4e96-a5a0-1bdefe727136",
   "metadata": {},
   "outputs": [
    {
     "data": {
      "text/plain": [
       "{1, 2, 4, 23}"
      ]
     },
     "execution_count": 39,
     "metadata": {},
     "output_type": "execute_result"
    }
   ],
   "source": [
    "a=[1,23,4]\n",
    "b=[2,1,4]\n",
    "unija(a,b)"
   ]
  },
  {
   "cell_type": "code",
   "execution_count": 41,
   "id": "4a4cd206-039b-48b9-a87a-4acf492f0ac6",
   "metadata": {},
   "outputs": [
    {
     "data": {
      "text/plain": [
       "{0, 1, 2, 3, 6, 7, 9}"
      ]
     },
     "execution_count": 41,
     "metadata": {},
     "output_type": "execute_result"
    }
   ],
   "source": [
    "c=[2,1,7,9]\n",
    "D=[3,6,9,0]\n",
    "unija(c,D)"
   ]
  },
  {
   "cell_type": "code",
   "execution_count": 47,
   "id": "188480bc-8f74-468f-8ea2-cf0a76f5fdc9",
   "metadata": {},
   "outputs": [],
   "source": [
    "def nova_unija(a,b):\n",
    "    c=[]\n",
    "    d=a+b\n",
    "    for element in d:\n",
    "        if element not in c:\n",
    "            c.append(element)\n",
    "    \n",
    "    return c"
   ]
  },
  {
   "cell_type": "code",
   "execution_count": 46,
   "id": "70e07256-3ce0-4c26-b7ea-ea3aff471e73",
   "metadata": {},
   "outputs": [
    {
     "data": {
      "text/plain": [
       "[1, 23, 4, 2]"
      ]
     },
     "execution_count": 46,
     "metadata": {},
     "output_type": "execute_result"
    }
   ],
   "source": [
    "nova_unija(a,b)"
   ]
  },
  {
   "cell_type": "markdown",
   "id": "35a8aa36-9ad0-4f85-90ac-7cd7d2c9ff0a",
   "metadata": {},
   "source": [
    "9.Napravite program koji simulira bacanje kocke (koristite biblioteku random) i broji \n",
    "koliko puta je svaka strana kocke izašla nakon određenog broja bacanja."
   ]
  },
  {
   "cell_type": "code",
   "execution_count": 108,
   "id": "770e5536-a7b6-4acd-9636-053a672c0f88",
   "metadata": {},
   "outputs": [
    {
     "name": "stdin",
     "output_type": "stream",
     "text": [
      "unesi broj bacanja 10\n"
     ]
    },
    {
     "name": "stdout",
     "output_type": "stream",
     "text": [
      "Svaka strana kocke je izasla sljedeci broj puta:\n",
      "1 je izasao 0 puta\n",
      "2 je izasao 1 puta\n",
      "3 je izasao 2 puta\n",
      "4 je izasao 4 puta\n",
      "5 je izasao 1 puta\n",
      "6 je izasao 2 puta\n"
     ]
    }
   ],
   "source": [
    "n=int(input('unesi broj bacanja'))\n",
    "rezultat = [0,0,0,0,0,0]\n",
    "for i in range(n):\n",
    "    x=rnd.randint(1,6)\n",
    "    rezultat[x-1] +=1\n",
    "\n",
    "print('Svaka strana kocke je izasla sljedeci broj puta:')\n",
    "for k,brojac in enumerate(rezultat):\n",
    "    print(k+1,'je izasao' ,brojac, 'puta')"
   ]
  },
  {
   "cell_type": "code",
   "execution_count": 98,
   "id": "e3aeb44a-eea4-4f4b-8cc2-19bd80bf515b",
   "metadata": {},
   "outputs": [
    {
     "data": {
      "text/plain": [
       "100"
      ]
     },
     "execution_count": 98,
     "metadata": {},
     "output_type": "execute_result"
    }
   ],
   "source": [
    "rezultat\n"
   ]
  },
  {
   "cell_type": "markdown",
   "id": "99c990bd-ac96-4d28-a6aa-20475755e2d6",
   "metadata": {},
   "source": [
    "11.Kreirajte program koji izračunava Fibonacci niz do određenog broja n, gdje n unosi korisnik."
   ]
  },
  {
   "cell_type": "code",
   "execution_count": 3,
   "id": "ab24cb8a-79de-4c89-a172-b409110c6f1e",
   "metadata": {},
   "outputs": [
    {
     "name": "stdin",
     "output_type": "stream",
     "text": [
      " 18\n"
     ]
    },
    {
     "name": "stdout",
     "output_type": "stream",
     "text": [
      "[1, 1, 2, 3, 5, 8, 13]\n"
     ]
    }
   ],
   "source": [
    "n=int(input())\n",
    "l=[1,1]\n",
    "a=1\n",
    "b=1\n",
    "c=a+b\n",
    "while c<=n:\n",
    "    \n",
    "    l.append(c)\n",
    "    a=b\n",
    "    b=c\n",
    "    c=a+b\n",
    "    \n",
    "print(l)\n",
    "    "
   ]
  },
  {
   "cell_type": "markdown",
   "id": "b8886279-eee7-41cd-8883-acc370310bf2",
   "metadata": {},
   "source": [
    "11.Napravite funkciju koja izračunava kvadratnu sredinu (RMS) za niz brojeva."
   ]
  },
  {
   "cell_type": "code",
   "execution_count": 177,
   "id": "78620c82-92be-4e72-9d8b-53f5209b1cf8",
   "metadata": {},
   "outputs": [],
   "source": [
    "import math as m\n",
    "def RMS(x):\n",
    "    n=len(x)\n",
    "    suma = 0\n",
    "    for a in x:\n",
    "        suma += a*a\n",
    "        \n",
    "    K=m.sqrt(suma/n)\n",
    "    return K\n"
   ]
  },
  {
   "cell_type": "code",
   "execution_count": 117,
   "id": "c1979c91-232f-4577-ad87-8c955fa9c458",
   "metadata": {},
   "outputs": [],
   "source": [
    "a=[2,3,4]"
   ]
  },
  {
   "cell_type": "code",
   "execution_count": 118,
   "id": "3aa89e50-f596-4dbf-bd8d-2acac54ef776",
   "metadata": {},
   "outputs": [
    {
     "data": {
      "text/plain": [
       "3.1091263510296048"
      ]
     },
     "execution_count": 118,
     "metadata": {},
     "output_type": "execute_result"
    }
   ],
   "source": [
    "RMS(a)"
   ]
  },
  {
   "cell_type": "code",
   "execution_count": 119,
   "id": "254c46ad-6d4c-4905-97e8-170ee2d8168f",
   "metadata": {},
   "outputs": [
    {
     "data": {
      "text/plain": [
       "3.1091263510296048"
      ]
     },
     "execution_count": 119,
     "metadata": {},
     "output_type": "execute_result"
    }
   ],
   "source": [
    "m.sqrt(29/3)"
   ]
  },
  {
   "cell_type": "code",
   "execution_count": 120,
   "id": "999d17b8-0eed-4b6c-aaed-808aba4543ae",
   "metadata": {},
   "outputs": [],
   "source": [
    "def f(a,b):\n",
    "    c=a/b\n",
    "    return(c)"
   ]
  },
  {
   "cell_type": "code",
   "execution_count": 121,
   "id": "60f316da-1de5-4f1d-b664-8084329cf6a5",
   "metadata": {},
   "outputs": [
    {
     "data": {
      "text/plain": [
       "0.6666666666666666"
      ]
     },
     "execution_count": 121,
     "metadata": {},
     "output_type": "execute_result"
    }
   ],
   "source": [
    "f(2,3)"
   ]
  },
  {
   "cell_type": "code",
   "execution_count": 122,
   "id": "9fb85e3d-ccd6-4faf-88be-64699ca914cf",
   "metadata": {},
   "outputs": [
    {
     "data": {
      "text/plain": [
       "3.0"
      ]
     },
     "execution_count": 122,
     "metadata": {},
     "output_type": "execute_result"
    }
   ],
   "source": [
    "f(9,3)"
   ]
  },
  {
   "cell_type": "code",
   "execution_count": 123,
   "id": "52825c31-32e2-421c-8905-7a3f9d024fdd",
   "metadata": {},
   "outputs": [
    {
     "data": {
      "text/plain": [
       "3.9547439866570375"
      ]
     },
     "execution_count": 123,
     "metadata": {},
     "output_type": "execute_result"
    }
   ],
   "source": [
    "RMS([2,3.4,5.6])"
   ]
  },
  {
   "cell_type": "code",
   "execution_count": 124,
   "id": "4e6dee1c-0918-4c92-ad1e-4f4f6bf2221a",
   "metadata": {},
   "outputs": [
    {
     "data": {
      "text/plain": [
       "2.7386127875258306"
      ]
     },
     "execution_count": 124,
     "metadata": {},
     "output_type": "execute_result"
    }
   ],
   "source": [
    "RMS((1,2,3,4))"
   ]
  },
  {
   "cell_type": "markdown",
   "id": "72daec20-4654-4fb8-a063-967e3966ee89",
   "metadata": {},
   "source": [
    "12.Kreirajte program koji pronalazi najveći zajednički delitelj (NZD) za dva unesena broja.\n",
    "\n"
   ]
  },
  {
   "cell_type": "code",
   "execution_count": 148,
   "id": "18e2aec6-deb7-434f-a5c3-377a3a61c52b",
   "metadata": {},
   "outputs": [
    {
     "name": "stdin",
     "output_type": "stream",
     "text": [
      "unesi a 74\n",
      "unesi b 78\n"
     ]
    },
    {
     "name": "stdout",
     "output_type": "stream",
     "text": [
      "2\n"
     ]
    }
   ],
   "source": [
    "a=int(input('unesi a'))\n",
    "b=int(input('unesi b'))\n",
    "if b>a:\n",
    "    d=a\n",
    "    a=b\n",
    "    b=d\n",
    "o=(a)%(b)\n",
    "if a==b:\n",
    "    print(a)\n",
    "else:\n",
    "    while o!=0:\n",
    "        c=o\n",
    "        o=b%o\n",
    "    print(c)"
   ]
  },
  {
   "cell_type": "markdown",
   "id": "a33ec837-253f-4f07-86e8-3010579c359e",
   "metadata": {},
   "source": [
    "13Implementirajte program koji prima niz brojeva i vraća broj koji se najčešće pojavljuje (mod)."
   ]
  },
  {
   "cell_type": "code",
   "execution_count": 173,
   "id": "953603eb-76ed-4a98-80f4-4910f6136a31",
   "metadata": {},
   "outputs": [
    {
     "name": "stdin",
     "output_type": "stream",
     "text": [
      "unesi niz elemenata odvojen zarezom \n",
      " 2,3,4,4,2\n"
     ]
    },
    {
     "name": "stdout",
     "output_type": "stream",
     "text": [
      "najcesce se pojavljuje broj: 4\n"
     ]
    }
   ],
   "source": [
    "input_l = input('unesi niz elemenata odvojen zarezom \\n')\n",
    "l = input_l.split(',')\n",
    "    \n",
    "freq=[]\n",
    "for us in set(l):\n",
    "    freq.append([l.count(us),us])\n",
    "mode_ = max(freq)[1]\n",
    "print('najcesce se pojavljuje broj:', mode_)\n",
    "        "
   ]
  },
  {
   "cell_type": "code",
   "execution_count": 166,
   "id": "04060bf3-d675-46a7-bd2f-8acad948b9ee",
   "metadata": {},
   "outputs": [
    {
     "data": {
      "text/plain": [
       "2"
      ]
     },
     "execution_count": 166,
     "metadata": {},
     "output_type": "execute_result"
    }
   ],
   "source": [
    "'elena'.count('e')"
   ]
  },
  {
   "cell_type": "code",
   "execution_count": 174,
   "id": "ccc3646a-86e6-4256-a85d-89f1b60a38b4",
   "metadata": {},
   "outputs": [
    {
     "data": {
      "text/plain": [
       "[[2, '2'], [1, '3'], [2, '4']]"
      ]
     },
     "execution_count": 174,
     "metadata": {},
     "output_type": "execute_result"
    }
   ],
   "source": [
    "freq"
   ]
  },
  {
   "cell_type": "markdown",
   "id": "f0f75acc-90f2-4199-85fb-f84c9d7169c9",
   "metadata": {},
   "source": [
    "Zadatak Vrijeme: Korisnik unosi dva vremenska trenutka. Prvi unosi kao h1, m1, s1 i drugi h2, m2, s2. \n",
    "Treba ispisati koliko je sati, minuta i sekundi prošlo između  za dva trenutka u danu. Ne znamo koji je prvi, koji drugi."
   ]
  },
  {
   "cell_type": "code",
   "execution_count": 32,
   "id": "7e8a26b5-af28-4516-bcac-0e89878b944e",
   "metadata": {},
   "outputs": [
    {
     "name": "stdin",
     "output_type": "stream",
     "text": [
      "Unijeti vrijeme u formatu: H,M,S 23,3,4\n",
      "Unijeti vrijeme u formatu: H,M,S 10,2,34\n"
     ]
    },
    {
     "name": "stdout",
     "output_type": "stream",
     "text": [
      "T1: 23:03:04\n",
      "T2: 10:02:34\n",
      "Time difference in hours, minutes, seconds is:  13:00:30\n",
      "Time difference is 46830.0 seconds\n",
      "Time difference is 46830000.0 milliseconds\n"
     ]
    }
   ],
   "source": [
    "def sec_hour(seconds):\n",
    "# Funkcija za zapisivanje broja sekundi u formati H:M:S\n",
    "     seconds = seconds % (24 * 3600)\n",
    "     hour = seconds // 3600\n",
    "     seconds %= 3600\n",
    "     minutes = seconds // 60\n",
    "     seconds %= 60\n",
    "     return str(\"%d:%02d:%02d\" % (hour, minutes, seconds))\n",
    "\n",
    "from datetime import datetime\n",
    "\n",
    "# start time\n",
    "t1_input = input('Unijeti vrijeme u formatu: H,M,S')\n",
    "t2_input = input('Unijeti vrijeme u formatu: H,M,S')\n",
    "\n",
    "# convert me string to datetime\n",
    "t1 = datetime.strptime(t1_input, \"%H,%M,%S\")\n",
    "print('T1:', t1.time())\n",
    "\n",
    "t2 = datetime.strptime(t2_input, \"%H,%M,%S\")\n",
    "print('T2:', t2.time())\n",
    "\n",
    "# get difference\n",
    "if t1<t2:\n",
    "     delta = t2 - t1\n",
    "else:\n",
    "     delta = t1 - t2\n",
    "\n",
    "deltaT= delta.total_seconds()\n",
    "#Time difference in hours, minutes, seconds\n",
    "h = sec_hour(deltaT)\n",
    "print(\"Time difference in hours, minutes, seconds is: \", h)\n",
    "\n",
    "# time difference in seconds\n",
    "print(f\"Time difference is {deltaT} seconds\")\n",
    "\n",
    "# time difference in milliseconds\n",
    "ms = deltaT * 1000\n",
    "print(f\"Time difference is {ms} milliseconds\")\n"
   ]
  },
  {
   "cell_type": "code",
   "execution_count": null,
   "id": "2a478ee8-c99c-4e9f-b475-e9b273d1685b",
   "metadata": {},
   "outputs": [],
   "source": []
  }
 ],
 "metadata": {
  "kernelspec": {
   "display_name": "Python 3",
   "language": "python",
   "name": "python3"
  },
  "language_info": {
   "codemirror_mode": {
    "name": "ipython",
    "version": 3
   },
   "file_extension": ".py",
   "mimetype": "text/x-python",
   "name": "python",
   "nbconvert_exporter": "python",
   "pygments_lexer": "ipython3",
   "version": "3.8.8"
  }
 },
 "nbformat": 4,
 "nbformat_minor": 5
}
