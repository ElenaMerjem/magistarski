{
 "cells": [
  {
   "cell_type": "markdown",
   "id": "33ca73b9-26a9-4ad5-9900-dc26beaa069c",
   "metadata": {},
   "source": [
    "##### zadaci\n",
    "1. Napišite program koji ispisuje sve brojeve od 1 do n, gdje n unosi korisnik. Ispisuju se samo brojevi koji su djeljivi sa 7.\n",
    "\n",
    "2. Kreirajte funkciju koja prima listu brojeva i vraća sumu svih parnih brojeva u toj listi.\n",
    "\n",
    "3. Napišite program koji generiše slučajan broj između 1 i 100 i traži od korisnika da ga pogodi. Dajte povratnu informaciju korisniku o tome da li je broj veći ili manji od unesenog.\n",
    "\n",
    "4. Implementirajte program koji računa faktorijel broja koji korisnik unese.\n",
    "\n",
    "5. Kreirajte funkciju koja provjerava da li je uneseni broj palindrom (čita se isto i s lijeva na desno i s desna na lijevo).\n",
    "\n",
    "6. Napišite program koji prima listu brojeva i vraća listu samo onih riječi koje su palindromi.\n",
    "\n",
    "7. Kreirajte funkciju koja prima niz brojeva i vraća medijanu (središnji broj kada su brojevi sortirani).\n",
    "\n",
    "9. Implementirajte funkciju koja prima dva niza i vraća njihov uniju (sve jedinstvene elemente iz oba niza).\n",
    "\n",
    "10. Napravite program koji simulira bacanje kocke (koristite biblioteku random) i broji koliko puta je svaka strana kocke izašla nakon određenog broja bacanja.\n",
    "\n",
    "11. Kreirajte program koji izračunava Fibonacci niz do određenog broja n, gdje n unosi korisnik.\n",
    "\n",
    "12. Napravite funkciju koja izračunava kvadratnu sredinu (RMS) za niz brojeva.\n",
    "\n",
    "13. Kreirajte program koji pronalazi najveći zajednički delitelj (NZD) za dva unesena broja.\n",
    "\n",
    "14. Implementirajte program koji prima niz brojeva i vraća broj koji se najčešće pojavljuje (mod)."
   ]
  },
  {
   "cell_type": "code",
   "execution_count": 15,
   "id": "ae447041-2650-4e4e-bc88-c285fc627739",
   "metadata": {},
   "outputs": [
    {
     "name": "stdin",
     "output_type": "stream",
     "text": [
      " 3\n"
     ]
    }
   ],
   "source": [
    "#1\n",
    "n= int(input())\n",
    "for i in range(1,n+1):\n",
    "    if i%7==0:\n",
    "        print(i)\n",
    "\n"
   ]
  },
  {
   "cell_type": "code",
   "execution_count": 17,
   "id": "c627aa84-c61e-4a8e-bc28-6e8c19fffc55",
   "metadata": {},
   "outputs": [
    {
     "name": "stdin",
     "output_type": "stream",
     "text": [
      " 10\n"
     ]
    },
    {
     "name": "stdout",
     "output_type": "stream",
     "text": [
      "30\n"
     ]
    }
   ],
   "source": [
    "#2\n",
    "n=int(input())\n",
    "sum=0\n",
    "for i in range(1,n+1):\n",
    "    if i%2==0 :\n",
    "        sum=sum+i\n",
    "print(sum)\n",
    "       "
   ]
  },
  {
   "cell_type": "code",
   "execution_count": 49,
   "id": "88a70aa1-fe92-44f5-afd1-819608be105b",
   "metadata": {},
   "outputs": [
    {
     "name": "stdin",
     "output_type": "stream",
     "text": [
      "unesi broj od 0 do 100 45\n"
     ]
    },
    {
     "name": "stdout",
     "output_type": "stream",
     "text": [
      "Trazeni broj je veci od unesenog!\n"
     ]
    }
   ],
   "source": [
    "#3 \n",
    "import random as r\n",
    "\n",
    "n= int(input('unesi broj od 0 do 100'))  #uneseni broj\n",
    "\n",
    "broj = r.randint(1,100)  #trazeni slucajni broj\n",
    "    \n",
    "if n>broj:\n",
    "    print('Trazeni broj je manji od unesenon!')\n",
    "else:\n",
    "    print(\"Trazeni broj je veci od unesenog!\")\n",
    "    \n"
   ]
  },
  {
   "cell_type": "code",
   "execution_count": 50,
   "id": "f9a29cae-0107-486d-9ebc-7c52b541a0e1",
   "metadata": {},
   "outputs": [
    {
     "name": "stdin",
     "output_type": "stream",
     "text": [
      "unesi broj od 0 do 10 4\n"
     ]
    },
    {
     "name": "stdout",
     "output_type": "stream",
     "text": [
      "trazeni broj je veci od unesenog\n"
     ]
    },
    {
     "name": "stdin",
     "output_type": "stream",
     "text": [
      "unesi broj od 0 do 10 5\n"
     ]
    },
    {
     "name": "stdout",
     "output_type": "stream",
     "text": [
      "Pogodio!\n"
     ]
    }
   ],
   "source": [
    "#3 modifikovan da radi sve dok ne pogodimo broj\n",
    "import random as r\n",
    "\n",
    "\n",
    "broj = r.randint(1,10) #trazeni broj\n",
    "\n",
    "while True: \n",
    "    n= int(input('unesi broj od 0 do 10'))\n",
    "    if n>broj:\n",
    "        print('trazeni broj je manji od unesenon')\n",
    "    elif n<broj:\n",
    "        print(\"trazeni broj je veci od unesenog\")\n",
    "    else:\n",
    "        print('Pogodio!')\n",
    "        break  # naredba za prekid while petlje\n",
    "    "
   ]
  },
  {
   "cell_type": "code",
   "execution_count": 75,
   "id": "b341bef5-6b9d-4a08-b41f-057f4aabba5c",
   "metadata": {},
   "outputs": [
    {
     "name": "stdin",
     "output_type": "stream",
     "text": [
      " -2\n"
     ]
    },
    {
     "name": "stdout",
     "output_type": "stream",
     "text": [
      "nema rjesenja\n"
     ]
    }
   ],
   "source": [
    "#4\n",
    "n=int(input())\n",
    "x=1\n",
    "if n<0:\n",
    "    print('nema rjesenja')\n",
    "else:\n",
    "    for i in range(1,n+1):\n",
    "        x=x*i\n",
    "    print(x)"
   ]
  },
  {
   "cell_type": "code",
   "execution_count": null,
   "id": "269423d9-c0bb-434e-b3ad-1da150333cc0",
   "metadata": {},
   "outputs": [],
   "source": [
    "ime='elena'\n",
    "print('')"
   ]
  }
 ],
 "metadata": {
  "kernelspec": {
   "display_name": "Python 3",
   "language": "python",
   "name": "python3"
  },
  "language_info": {
   "codemirror_mode": {
    "name": "ipython",
    "version": 3
   },
   "file_extension": ".py",
   "mimetype": "text/x-python",
   "name": "python",
   "nbconvert_exporter": "python",
   "pygments_lexer": "ipython3",
   "version": "3.8.8"
  }
 },
 "nbformat": 4,
 "nbformat_minor": 5
}
