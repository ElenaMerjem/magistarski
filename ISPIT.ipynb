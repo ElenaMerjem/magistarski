{
 "cells": [
  {
   "cell_type": "code",
   "execution_count": null,
   "id": "73cfe49e-dfdf-491d-bbb2-4c15b0014aa9",
   "metadata": {},
   "outputs": [],
   "source": [
    "#zadatak 1\n",
    "n=int(input())\n",
    "l=[]\n",
    "for i in range(n):\n",
    "    l.append(int(input()))\n",
    "    a=max(l)\n",
    "    b=min(l)\n",
    "    c=sum(l)/len(l)\n",
    "print('max vrijednost je', a)\n",
    "print('min vrijednost je', b)\n",
    "print('srednja vrijednost je', c)"
   ]
  },
  {
   "cell_type": "code",
   "execution_count": 64,
   "id": "ca42e616-82b1-4535-8209-0fee7a920e1b",
   "metadata": {},
   "outputs": [],
   "source": [
    "#zadatak 3\n",
    "def polindrom(x):\n",
    "    x = str(x)\n",
    "    print(x[::-1])\n",
    "    \n",
    "    if x == x[::-1]:\n",
    "        print(f'Uneseni broj {x} je polindrom')"
   ]
  },
  {
   "cell_type": "code",
   "execution_count": 20,
   "id": "ba0a4064-91ea-472b-823f-8969997b2be7",
   "metadata": {},
   "outputs": [
    {
     "name": "stdin",
     "output_type": "stream",
     "text": [
      " elena Elena\n"
     ]
    },
    {
     "name": "stdout",
     "output_type": "stream",
     "text": [
      "6\n"
     ]
    }
   ],
   "source": [
    "#zadatak 2\n",
    "t=input()\n",
    "a=t.count('a')\n",
    "o=t.count('o')\n",
    "i=t.count('i')\n",
    "u=t.count('u')\n",
    "e=t.count('e')\n",
    "A=t.count('A')\n",
    "O=t.count('O')\n",
    "I=t.count('I')\n",
    "U=t.count('U')\n",
    "E=t.count('E')\n",
    "print(a+o+i+u+e+E+A+O+U+I)\n",
    "\n",
    "    \n",
    "    "
   ]
  },
  {
   "cell_type": "code",
   "execution_count": 45,
   "id": "40e716dd-7654-4acf-9da2-51fa98b05cbe",
   "metadata": {},
   "outputs": [
    {
     "name": "stdin",
     "output_type": "stream",
     "text": [
      " 2\n",
      " 3\n"
     ]
    },
    {
     "name": "stdout",
     "output_type": "stream",
     "text": [
      "[[1. 1.]\n",
      " [1. 1.]\n",
      " [1. 1.]]\n"
     ]
    }
   ],
   "source": [
    "#zadatak 5\n",
    "import numpy as np\n",
    "import random as r\n",
    "\n",
    "n=int(input())\n",
    "m=int(input())\n",
    "mt=np.empty((m,n))\n",
    "l=[]\n",
    "x=r.randint(0,1)\n",
    "\n",
    "    \n",
    "for i in range(m*n):\n",
    "    l.append(x)\n",
    "    \n",
    "if m%2==0 or n%2==0:\n",
    "    \n",
    "    for i in range(m):\n",
    "        for j in range(n):\n",
    "            mt[i,j]=l[i]\n",
    "    print(mt)\n",
    "else:\n",
    "    print('pogresan unos')\n",
    "    "
   ]
  },
  {
   "cell_type": "code",
   "execution_count": 67,
   "id": "41a137e8-6380-4314-8b18-d7290d6098ca",
   "metadata": {},
   "outputs": [
    {
     "name": "stdin",
     "output_type": "stream",
     "text": [
      " 5\n"
     ]
    },
    {
     "name": "stdout",
     "output_type": "stream",
     "text": [
      "[1, 1, 2, 3, 5]\n"
     ]
    }
   ],
   "source": [
    "#zadatak 4\n",
    "n=int(input())\n",
    "a=1\n",
    "b=1\n",
    "l=[1,1]\n",
    "c=a+b\n",
    "while c<=n:\n",
    "    l.append(c)\n",
    "    a=b\n",
    "    b=c\n",
    "    c=b+a\n",
    "    \n",
    "print(l)"
   ]
  },
  {
   "cell_type": "code",
   "execution_count": 68,
   "id": "84e5a270-9268-4e2e-88d6-8ce72c9d594f",
   "metadata": {},
   "outputs": [
    {
     "name": "stdout",
     "output_type": "stream",
     "text": [
      "121\n",
      "Uneseni broj 121 je polindrom\n"
     ]
    }
   ],
   "source": [
    "polindrom(121)\n"
   ]
  },
  {
   "cell_type": "code",
   "execution_count": null,
   "id": "5578adb6-3f7d-4fb0-84c1-674543266ab8",
   "metadata": {},
   "outputs": [],
   "source": []
  },
  {
   "cell_type": "code",
   "execution_count": null,
   "id": "c55ea62e-deb1-4540-8e13-e29188c4a533",
   "metadata": {},
   "outputs": [],
   "source": []
  }
 ],
 "metadata": {
  "kernelspec": {
   "display_name": "Python 3",
   "language": "python",
   "name": "python3"
  },
  "language_info": {
   "codemirror_mode": {
    "name": "ipython",
    "version": 3
   },
   "file_extension": ".py",
   "mimetype": "text/x-python",
   "name": "python",
   "nbconvert_exporter": "python",
   "pygments_lexer": "ipython3",
   "version": "3.8.8"
  }
 },
 "nbformat": 4,
 "nbformat_minor": 5
}
